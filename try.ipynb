{
 "cells": [
  {
   "cell_type": "code",
   "execution_count": 140,
   "id": "58d56d7c-ad2a-44c2-b069-7795f1e2d04c",
   "metadata": {},
   "outputs": [],
   "source": [
    "%reset -f\n",
    "import numpy as np"
   ]
  },
  {
   "cell_type": "code",
   "execution_count": 141,
   "id": "2c4b78ed-929b-4da0-a38d-62f6291b6d2e",
   "metadata": {},
   "outputs": [],
   "source": [
    "AA = np.array([[1+2j, 3+4j],[5+6j, 7+8j]])"
   ]
  },
  {
   "cell_type": "code",
   "execution_count": 142,
   "id": "1b18b138-840d-4874-81b0-489f8da3b7f5",
   "metadata": {},
   "outputs": [],
   "source": [
    "qq, rr = np.linalg.qr(AA)"
   ]
  },
  {
   "cell_type": "code",
   "execution_count": 143,
   "id": "6b1fec27-9336-4f36-8e8c-9c4273151010",
   "metadata": {},
   "outputs": [
    {
     "name": "stdout",
     "output_type": "stream",
     "text": [
      "[[-0.12309149-0.24618298j  0.73854895+0.61545745j]\n",
      " [-0.61545745-0.73854895j -0.24618298-0.12309149j]]\n"
     ]
    }
   ],
   "source": [
    "print(qq)"
   ]
  },
  {
   "cell_type": "code",
   "execution_count": 144,
   "id": "af2e75ec-444b-469c-b6f0-e6d04ae53219",
   "metadata": {},
   "outputs": [
    {
     "data": {
      "text/plain": [
       "array([[ 1.00000000e+00+0.00000000e+00j, -2.63677968e-16-1.38777878e-16j],\n",
       "       [-2.63677968e-16+1.38777878e-16j,  1.00000000e+00+0.00000000e+00j]])"
      ]
     },
     "execution_count": 144,
     "metadata": {},
     "output_type": "execute_result"
    }
   ],
   "source": [
    "qq.conj().T @ qq"
   ]
  },
  {
   "cell_type": "code",
   "execution_count": 145,
   "id": "15cd113a-1f3e-466a-b3bd-2d4fbd69f2fa",
   "metadata": {},
   "outputs": [
    {
     "data": {
      "text/plain": [
       "array([[1.+2.j, 3.+4.j],\n",
       "       [5.+6.j, 7.+8.j]])"
      ]
     },
     "execution_count": 145,
     "metadata": {},
     "output_type": "execute_result"
    }
   ],
   "source": [
    "qq @ rr"
   ]
  },
  {
   "cell_type": "code",
   "execution_count": 146,
   "id": "54ae5b24-a11d-47b7-a4d8-409f7b28ddaa",
   "metadata": {},
   "outputs": [
    {
     "name": "stderr",
     "output_type": "stream",
     "text": [
      "<ipython-input-146-420aa3d1f68b>:25: ComplexWarning: Casting complex values to real discards the imaginary part\n",
      "  rr[jj:, :] = HH @ rr[jj:, :];\n"
     ]
    }
   ],
   "source": [
    "nn = AA.shape[1]\n",
    "\n",
    "BB = np.real(AA)\n",
    "\n",
    "qq = np.eye(nn) + 1j*np.zeros([nn,nn])\n",
    "rr = BB\n",
    "\n",
    "def ej(jj):\n",
    "    ej     = np.zeros(nn-jj)\n",
    "    ej[0]  = 1\n",
    "    return ej\n",
    "\n",
    "for jj in range(nn):\n",
    "    \n",
    "    # create hh reflection\n",
    "    vv    = rr[jj:,jj];\n",
    "    normx = np.linalg.norm(vv[0]);\n",
    "    theta = np.arctan2(vv[0].imag, vv[0].real)\n",
    "    vhat  = vv/np.linalg.norm(vv)\n",
    "    uu    = vhat + ej(jj)*np.exp(1j*theta)\n",
    "    uhat  = uu/np.linalg.norm(uu)\n",
    "    \n",
    "    HH = -np.exp(-1j*theta)*(np.eye(nn-jj) - 2 * np.outer(uhat, uhat.conj()))\n",
    "    \n",
    "    rr[jj:, :] = HH @ rr[jj:, :];\n",
    "    qq[:, jj:] = qq[:, jj:] @ HH; "
   ]
  },
  {
   "cell_type": "code",
   "execution_count": 147,
   "id": "37784e95-ea7f-46cf-8ce4-7f0f7354de4a",
   "metadata": {},
   "outputs": [
    {
     "data": {
      "text/plain": [
       "array([[5.09901951e+00, 7.45241314e+00],\n",
       "       [6.66133815e-16, 1.56892908e+00]])"
      ]
     },
     "execution_count": 147,
     "metadata": {},
     "output_type": "execute_result"
    }
   ],
   "source": [
    "rr"
   ]
  },
  {
   "cell_type": "code",
   "execution_count": 148,
   "id": "de730dea-91db-4e89-9f76-22766b756b8d",
   "metadata": {},
   "outputs": [
    {
     "data": {
      "text/plain": [
       "array([[ 0.19611614+0.j,  0.98058068+0.j],\n",
       "       [ 0.98058068+0.j, -0.19611614+0.j]])"
      ]
     },
     "execution_count": 148,
     "metadata": {},
     "output_type": "execute_result"
    }
   ],
   "source": [
    "qq"
   ]
  },
  {
   "cell_type": "code",
   "execution_count": 149,
   "id": "c65781be-d7f8-4345-a046-5b5bd2062ff0",
   "metadata": {},
   "outputs": [
    {
     "data": {
      "text/plain": [
       "array([[1.+0.j, 3.+0.j],\n",
       "       [5.+0.j, 7.+0.j]])"
      ]
     },
     "execution_count": 149,
     "metadata": {},
     "output_type": "execute_result"
    }
   ],
   "source": [
    "qq @ rr"
   ]
  },
  {
   "cell_type": "code",
   "execution_count": 150,
   "id": "b70ef8f5-08a5-4290-a115-a0226c8a0a6c",
   "metadata": {},
   "outputs": [
    {
     "data": {
      "text/plain": [
       "array([[5.09901951e+00, 7.45241314e+00],\n",
       "       [6.66133815e-16, 1.56892908e+00]])"
      ]
     },
     "execution_count": 150,
     "metadata": {},
     "output_type": "execute_result"
    }
   ],
   "source": [
    "BB"
   ]
  },
  {
   "cell_type": "code",
   "execution_count": 151,
   "id": "0453879e-0608-4727-b38b-4cbc9cc1cd47",
   "metadata": {},
   "outputs": [
    {
     "data": {
      "text/plain": [
       "array([[5.09901951e+00+2.j, 7.45241314e+00+4.j],\n",
       "       [6.66133815e-16+6.j, 1.56892908e+00+8.j]])"
      ]
     },
     "execution_count": 151,
     "metadata": {},
     "output_type": "execute_result"
    }
   ],
   "source": [
    "AA"
   ]
  },
  {
   "cell_type": "code",
   "execution_count": 152,
   "id": "264de1da-afaa-4847-a0e9-56725ffa120d",
   "metadata": {},
   "outputs": [
    {
     "name": "stdout",
     "output_type": "stream",
     "text": [
      "[[5.09901951e+00 7.45241314e+00]\n",
      " [6.66133815e-16 1.56892908e+00]]\n"
     ]
    }
   ],
   "source": [
    "nn = AA.shape[1]\n",
    "BB = np.real(AA)\n",
    "print(BB)"
   ]
  },
  {
   "cell_type": "code",
   "execution_count": null,
   "id": "08510798-ff09-461d-8fe8-b923669a4207",
   "metadata": {},
   "outputs": [],
   "source": []
  },
  {
   "cell_type": "code",
   "execution_count": 55,
   "id": "3ea1a67c-aedb-4a71-9bfc-9f503e2a8937",
   "metadata": {},
   "outputs": [
    {
     "data": {
      "text/plain": [
       "array([[0.-1.j, 0.-1.j],\n",
       "       [0.-2.j, 0.-2.j]])"
      ]
     },
     "execution_count": 55,
     "metadata": {},
     "output_type": "execute_result"
    }
   ],
   "source": [
    "pp = np.array([1 , 2]);\n",
    "ss = np.array([1j, 1j]);\n",
    "np.outer(pp,ss.conj())"
   ]
  }
 ],
 "metadata": {
  "kernelspec": {
   "display_name": "Python 3",
   "language": "python",
   "name": "python3"
  },
  "language_info": {
   "codemirror_mode": {
    "name": "ipython",
    "version": 3
   },
   "file_extension": ".py",
   "mimetype": "text/x-python",
   "name": "python",
   "nbconvert_exporter": "python",
   "pygments_lexer": "ipython3",
   "version": "3.8.10"
  }
 },
 "nbformat": 4,
 "nbformat_minor": 5
}
