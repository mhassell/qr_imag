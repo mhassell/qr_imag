{
 "cells": [
  {
   "cell_type": "code",
   "execution_count": 1,
   "id": "8819648c-8726-4d4b-a937-eb4c6410896c",
   "metadata": {},
   "outputs": [],
   "source": [
    "import numpy as np"
   ]
  },
  {
   "cell_type": "code",
   "execution_count": 12,
   "id": "17895eb9-d313-4891-a805-49480a2abda7",
   "metadata": {},
   "outputs": [],
   "source": [
    "def ej(jj,nn):\n",
    "    ej     = np.zeros(nn-jj)\n",
    "    ej[0]  = 1\n",
    "    return ej"
   ]
  },
  {
   "cell_type": "code",
   "execution_count": 22,
   "id": "328430a6-b1fb-4d8e-8f83-913e147562c8",
   "metadata": {},
   "outputs": [],
   "source": [
    "def qr(AA):\n",
    "    \n",
    "    nn = AA.shape[1]\n",
    "\n",
    "    qq = np.eye(nn) + 1j*np.zeros([nn,nn])\n",
    "    rr = AA\n",
    "\n",
    "    for jj in range(nn):\n",
    "\n",
    "        # create hh reflection\n",
    "        vv    = rr[jj:,jj];\n",
    "        normx = np.linalg.norm(vv[0]);\n",
    "        theta = np.arctan2(vv[0].imag, vv[0].real)\n",
    "        vhat  = vv/np.linalg.norm(vv)\n",
    "        uu    = vhat + ej(jj,nn)*np.exp(1j*theta)\n",
    "        uhat  = uu/np.linalg.norm(uu)\n",
    "\n",
    "        HH = -np.exp(-1j*theta)*(np.eye(nn-jj) - 2 * np.outer(uhat, uhat.conj()))\n",
    "\n",
    "        rr[jj:, :] = HH @ rr[jj:, :];\n",
    "        qq[:, jj:] = qq[:, jj:] @ HH; \n",
    "        \n",
    "        return qq, rr"
   ]
  },
  {
   "cell_type": "code",
   "execution_count": 27,
   "id": "e15c155c-af7b-432a-84ef-31d779c5621b",
   "metadata": {},
   "outputs": [],
   "source": [
    "AA = 1.0*np.array([[1,2],[3,4]])"
   ]
  },
  {
   "cell_type": "code",
   "execution_count": 28,
   "id": "70d8755f-19af-457d-8001-45373dd053d0",
   "metadata": {},
   "outputs": [
    {
     "name": "stderr",
     "output_type": "stream",
     "text": [
      "<ipython-input-22-1b353f6266dc>:20: ComplexWarning: Casting complex values to real discards the imaginary part\n",
      "  rr[jj:, :] = HH @ rr[jj:, :];\n"
     ]
    }
   ],
   "source": [
    "qq, rr = qr(AA)"
   ]
  },
  {
   "cell_type": "code",
   "execution_count": 29,
   "id": "738fe738-ec41-403b-99fb-e290cdd284ff",
   "metadata": {},
   "outputs": [
    {
     "data": {
      "text/plain": [
       "array([[ 0.31622777+0.j,  0.9486833 +0.j],\n",
       "       [ 0.9486833 +0.j, -0.31622777+0.j]])"
      ]
     },
     "execution_count": 29,
     "metadata": {},
     "output_type": "execute_result"
    }
   ],
   "source": [
    "qq"
   ]
  },
  {
   "cell_type": "code",
   "execution_count": 30,
   "id": "b6883777-4258-4795-9778-098ceb4da944",
   "metadata": {},
   "outputs": [
    {
     "data": {
      "text/plain": [
       "array([[1.+0.j, 2.+0.j],\n",
       "       [3.+0.j, 4.+0.j]])"
      ]
     },
     "execution_count": 30,
     "metadata": {},
     "output_type": "execute_result"
    }
   ],
   "source": [
    "qq @ rr"
   ]
  },
  {
   "cell_type": "code",
   "execution_count": null,
   "id": "343ff6b7-1769-4973-ac8c-49e42bcb0612",
   "metadata": {},
   "outputs": [],
   "source": [
    "# https://arxiv.org/pdf/math-ph/0609050.pdf"
   ]
  }
 ],
 "metadata": {
  "kernelspec": {
   "display_name": "Python 3",
   "language": "python",
   "name": "python3"
  },
  "language_info": {
   "codemirror_mode": {
    "name": "ipython",
    "version": 3
   },
   "file_extension": ".py",
   "mimetype": "text/x-python",
   "name": "python",
   "nbconvert_exporter": "python",
   "pygments_lexer": "ipython3",
   "version": "3.8.10"
  }
 },
 "nbformat": 4,
 "nbformat_minor": 5
}
