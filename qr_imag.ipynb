{
 "cells": [
  {
   "cell_type": "code",
   "execution_count": 1,
   "id": "8819648c-8726-4d4b-a937-eb4c6410896c",
   "metadata": {},
   "outputs": [],
   "source": [
    "import numpy as np"
   ]
  },
  {
   "cell_type": "code",
   "execution_count": 2,
   "id": "17895eb9-d313-4891-a805-49480a2abda7",
   "metadata": {},
   "outputs": [],
   "source": [
    "def ej(jj,nn):\n",
    "    ej     = np.zeros(nn-jj)\n",
    "    ej[0]  = 1.0\n",
    "    return ej"
   ]
  },
  {
   "cell_type": "code",
   "execution_count": 38,
   "id": "328430a6-b1fb-4d8e-8f83-913e147562c8",
   "metadata": {},
   "outputs": [],
   "source": [
    "def qr(AA):\n",
    "    \n",
    "    nn = AA.shape[1]\n",
    "\n",
    "    qq = np.eye(nn) + 1j*np.zeros([nn,nn])\n",
    "    rr = np.array(AA)\n",
    "\n",
    "    for jj in range(nn):\n",
    "\n",
    "        # create hh reflection\n",
    "        vv    = rr[jj:,jj];\n",
    "        normx = np.abs(vv[0]);\n",
    "        theta = np.arctan2(vv[0].imag, vv[0].real)\n",
    "        vhat  = vv/np.linalg.norm(vv)\n",
    "        uu    = vhat + ej(jj,nn)*np.exp(1j*theta)\n",
    "        uhat  = uu/np.linalg.norm(uu)\n",
    "\n",
    "        HH = -np.exp(-1j*theta)*(np.eye(nn-jj) - 2.0 * np.outer(uhat, uhat.conj()))\n",
    "\n",
    "        rr[jj:, :] = HH @ rr[jj:, :];\n",
    "        qq[:, jj:] = qq[:, jj:] @ HH; \n",
    "        \n",
    "        return qq, rr"
   ]
  },
  {
   "cell_type": "code",
   "execution_count": 39,
   "id": "e15c155c-af7b-432a-84ef-31d779c5621b",
   "metadata": {},
   "outputs": [],
   "source": [
    "BB = 1.0*np.array([[1. , 2.],[3., 4.]]) + 1j*np.array([[5., 6.], [7., 8.]])"
   ]
  },
  {
   "cell_type": "code",
   "execution_count": 40,
   "id": "02f955ae-755f-4bd0-99c0-74f5646f3f53",
   "metadata": {},
   "outputs": [
    {
     "data": {
      "text/plain": [
       "array([[1.+5.j, 2.+6.j],\n",
       "       [3.+7.j, 4.+8.j]])"
      ]
     },
     "execution_count": 40,
     "metadata": {},
     "output_type": "execute_result"
    }
   ],
   "source": [
    "BB"
   ]
  },
  {
   "cell_type": "code",
   "execution_count": 41,
   "id": "70d8755f-19af-457d-8001-45373dd053d0",
   "metadata": {},
   "outputs": [],
   "source": [
    "qq, rr = qr(BB)"
   ]
  },
  {
   "cell_type": "code",
   "execution_count": 42,
   "id": "738fe738-ec41-403b-99fb-e290cdd284ff",
   "metadata": {},
   "outputs": [
    {
     "data": {
      "text/plain": [
       "array([[ 0.10910895-0.54554473j,  0.32732684-0.76376262j],\n",
       "       [-0.008393  -0.83090658j, -0.10910895+0.54554473j]])"
      ]
     },
     "execution_count": 42,
     "metadata": {},
     "output_type": "execute_result"
    }
   ],
   "source": [
    "qq"
   ]
  },
  {
   "cell_type": "code",
   "execution_count": 46,
   "id": "b6883777-4258-4795-9778-098ceb4da944",
   "metadata": {},
   "outputs": [
    {
     "data": {
      "text/plain": [
       "array([[1.+5.j, 2.+6.j],\n",
       "       [3.+7.j, 4.+8.j]])"
      ]
     },
     "execution_count": 46,
     "metadata": {},
     "output_type": "execute_result"
    }
   ],
   "source": [
    "qq.conj().T @ rr"
   ]
  },
  {
   "cell_type": "code",
   "execution_count": 31,
   "id": "03d8e8a4-4402-4da7-ba94-3925bb6948a7",
   "metadata": {},
   "outputs": [
    {
     "data": {
      "text/plain": [
       "array([[ 1.00000000e+00+0.00000000e+00j, -2.15105711e-16-5.55111512e-17j],\n",
       "       [-2.15105711e-16+5.55111512e-17j,  1.00000000e+00+0.00000000e+00j]])"
      ]
     },
     "execution_count": 31,
     "metadata": {},
     "output_type": "execute_result"
    }
   ],
   "source": [
    "qq.conj().T @ qq      # AHHHHHHHHHHHHHHHHHHHHHHHHHHHHHHHHHHHHHHHHHHHHHHHHHHHHHH"
   ]
  },
  {
   "cell_type": "code",
   "execution_count": 47,
   "id": "3670bb4c-8017-40d6-b502-4cc1f3b346f4",
   "metadata": {},
   "outputs": [
    {
     "data": {
      "text/plain": [
       "array([[ 9.16515139e+00+4.44089210e-16j,  1.09108945e+01-8.72871561e-01j],\n",
       "       [-9.43689571e-16+0.00000000e+00j,  1.67859916e-01-4.02863797e-01j]])"
      ]
     },
     "execution_count": 47,
     "metadata": {},
     "output_type": "execute_result"
    }
   ],
   "source": [
    "rr"
   ]
  },
  {
   "cell_type": "code",
   "execution_count": null,
   "id": "1d9593a7-a842-4929-92c1-38ba7c202e75",
   "metadata": {},
   "outputs": [],
   "source": []
  },
  {
   "cell_type": "code",
   "execution_count": null,
   "id": "728416c2-af95-44d5-ba7a-401e45961454",
   "metadata": {},
   "outputs": [],
   "source": []
  },
  {
   "cell_type": "code",
   "execution_count": null,
   "id": "33b03ed8-074f-4358-85f9-24cfff10ae95",
   "metadata": {},
   "outputs": [],
   "source": []
  },
  {
   "cell_type": "code",
   "execution_count": null,
   "id": "b2ec5218-b2b8-4f7a-9590-2a16d857fa3b",
   "metadata": {},
   "outputs": [],
   "source": []
  },
  {
   "cell_type": "code",
   "execution_count": null,
   "id": "94303329-8b35-49f7-8601-f562f26bdf1b",
   "metadata": {},
   "outputs": [],
   "source": []
  },
  {
   "cell_type": "code",
   "execution_count": 13,
   "id": "343ff6b7-1769-4973-ac8c-49e42bcb0612",
   "metadata": {},
   "outputs": [],
   "source": [
    "# https://arxiv.org/pdf/math-ph/0609050.pdf"
   ]
  },
  {
   "cell_type": "code",
   "execution_count": null,
   "id": "5d8e57ed-4732-4212-80eb-13adeac63612",
   "metadata": {},
   "outputs": [],
   "source": []
  }
 ],
 "metadata": {
  "kernelspec": {
   "display_name": "Python 3",
   "language": "python",
   "name": "python3"
  },
  "language_info": {
   "codemirror_mode": {
    "name": "ipython",
    "version": 3
   },
   "file_extension": ".py",
   "mimetype": "text/x-python",
   "name": "python",
   "nbconvert_exporter": "python",
   "pygments_lexer": "ipython3",
   "version": "3.8.10"
  }
 },
 "nbformat": 4,
 "nbformat_minor": 5
}
